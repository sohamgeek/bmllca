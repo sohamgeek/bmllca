{
  "nbformat": 4,
  "nbformat_minor": 0,
  "metadata": {
    "colab": {
      "provenance": [],
      "authorship_tag": "ABX9TyPLz2pKs7+MzKVsfW1fUHDa",
      "include_colab_link": true
    },
    "kernelspec": {
      "name": "python3",
      "display_name": "Python 3"
    },
    "language_info": {
      "name": "python"
    }
  },
  "cells": [
    {
      "cell_type": "markdown",
      "metadata": {
        "id": "view-in-github",
        "colab_type": "text"
      },
      "source": [
        "<a href=\"https://colab.research.google.com/github/sohamgeek/bmllca/blob/main/skill_1_to_8expt.ipynb\" target=\"_parent\"><img src=\"https://colab.research.google.com/assets/colab-badge.svg\" alt=\"Open In Colab\"/></a>"
      ]
    },
    {
      "cell_type": "code",
      "execution_count": 4,
      "metadata": {
        "colab": {
          "base_uri": "https://localhost:8080/"
        },
        "id": "lu8RlRVIOw5L",
        "outputId": "e9f95393-d2d3-43f4-be18-854f7da59305"
      },
      "outputs": [
        {
          "output_type": "stream",
          "name": "stdout",
          "text": [
            "Requirement already satisfied: pandas in /usr/local/lib/python3.11/dist-packages (2.2.2)\n",
            "Requirement already satisfied: numpy in /usr/local/lib/python3.11/dist-packages (2.0.2)\n",
            "Requirement already satisfied: scikit-learn in /usr/local/lib/python3.11/dist-packages (1.6.1)\n",
            "Requirement already satisfied: python-dateutil>=2.8.2 in /usr/local/lib/python3.11/dist-packages (from pandas) (2.8.2)\n",
            "Requirement already satisfied: pytz>=2020.1 in /usr/local/lib/python3.11/dist-packages (from pandas) (2025.1)\n",
            "Requirement already satisfied: tzdata>=2022.7 in /usr/local/lib/python3.11/dist-packages (from pandas) (2025.1)\n",
            "Requirement already satisfied: scipy>=1.6.0 in /usr/local/lib/python3.11/dist-packages (from scikit-learn) (1.14.1)\n",
            "Requirement already satisfied: joblib>=1.2.0 in /usr/local/lib/python3.11/dist-packages (from scikit-learn) (1.4.2)\n",
            "Requirement already satisfied: threadpoolctl>=3.1.0 in /usr/local/lib/python3.11/dist-packages (from scikit-learn) (3.6.0)\n",
            "Requirement already satisfied: six>=1.5 in /usr/local/lib/python3.11/dist-packages (from python-dateutil>=2.8.2->pandas) (1.17.0)\n",
            "Dataset Preview:\n",
            "   ID  Sepal.Length  Sepal.Width  Petal.Length  Petal.Width Species\n",
            "0   1           5.1          3.5           1.4          0.2  setosa\n",
            "1   2           4.9          3.0           1.4          0.2  setosa\n",
            "2   3           4.7          3.2           1.3          0.2  setosa\n",
            "3   4           4.6          3.1           1.5          0.2  setosa\n",
            "4   5           5.0          3.6           1.4          0.2  setosa\n",
            "\n",
            "Columns in dataset: Index(['ID', 'Sepal.Length', 'Sepal.Width', 'Petal.Length', 'Petal.Width',\n",
            "       'Species'],\n",
            "      dtype='object')\n",
            "\n",
            "Logistic Regression Accuracy: 1.0\n",
            "Naïve Bayes Accuracy: 1.0\n",
            "Decision Tree Accuracy: 1.0\n",
            "Random Forest Accuracy: 1.0\n",
            "KNN Accuracy: 1.0\n",
            "K-Means Cluster Centers:\n",
            " [[ 1.14317894  1.03542672 -0.07810364  1.04210818  1.09314461]\n",
            " [ 0.07560189  0.03894137 -0.73570307  0.30698645  0.21446939]\n",
            " [-1.1547262  -1.01457897  0.85326268 -1.30498732 -1.25489349]]\n"
          ]
        }
      ],
      "source": [
        "# Install necessary libraries\n",
        "!pip install pandas numpy scikit-learn\n",
        "\n",
        "# Import required libraries\n",
        "import pandas as pd\n",
        "import numpy as np\n",
        "from sklearn.model_selection import train_test_split\n",
        "from sklearn.preprocessing import StandardScaler, LabelEncoder\n",
        "from sklearn.linear_model import LogisticRegression\n",
        "from sklearn.naive_bayes import GaussianNB\n",
        "from sklearn.tree import DecisionTreeClassifier\n",
        "from sklearn.ensemble import RandomForestClassifier\n",
        "from sklearn.neighbors import KNeighborsClassifier\n",
        "from sklearn.cluster import KMeans\n",
        "from sklearn.metrics import accuracy_score\n",
        "\n",
        "# 1. Load Dataset\n",
        "file_path = \"IRIS (1).csv\"  # Ensure the correct file path\n",
        "df = pd.read_csv(file_path)\n",
        "\n",
        "# Display dataset preview\n",
        "print(\"Dataset Preview:\")\n",
        "print(df.head())\n",
        "\n",
        "# Check the column names\n",
        "print(\"\\nColumns in dataset:\", df.columns)\n",
        "\n",
        "# Assuming the last column is the target (species/class label)\n",
        "target_column = df.columns[-1]\n",
        "\n",
        "# 2. Data Preprocessing\n",
        "# Encode target labels if they are categorical\n",
        "if df[target_column].dtype == 'object':\n",
        "    label_encoder = LabelEncoder()\n",
        "    df[target_column] = label_encoder.fit_transform(df[target_column])\n",
        "\n",
        "# Define Features (X) and Target (y)\n",
        "X = df.iloc[:, :-1].values  # Select all columns except last\n",
        "y = df[target_column].values  # Select the last column as target\n",
        "\n",
        "# Standardizing the data\n",
        "scaler = StandardScaler()\n",
        "X_scaled = scaler.fit_transform(X)\n",
        "\n",
        "# Splitting dataset into training and testing sets\n",
        "X_train, X_test, y_train, y_test = train_test_split(X_scaled, y, test_size=0.2, random_state=42)\n",
        "\n",
        "# 3. Logistic Regression Model\n",
        "logistic_model = LogisticRegression()\n",
        "logistic_model.fit(X_train, y_train)\n",
        "y_pred_logistic = logistic_model.predict(X_test)\n",
        "print(\"\\nLogistic Regression Accuracy:\", accuracy_score(y_test, y_pred_logistic))\n",
        "\n",
        "# 4. Naïve Bayes\n",
        "nb_model = GaussianNB()\n",
        "nb_model.fit(X_train, y_train)\n",
        "y_pred_nb = nb_model.predict(X_test)\n",
        "print(\"Naïve Bayes Accuracy:\", accuracy_score(y_test, y_pred_nb))\n",
        "\n",
        "# 5. Decision Tree\n",
        "dt_model = DecisionTreeClassifier()\n",
        "dt_model.fit(X_train, y_train)\n",
        "y_pred_dt = dt_model.predict(X_test)\n",
        "print(\"Decision Tree Accuracy:\", accuracy_score(y_test, y_pred_dt))\n",
        "\n",
        "# 6. Random Forest\n",
        "rf_model = RandomForestClassifier(n_estimators=100)\n",
        "rf_model.fit(X_train, y_train)\n",
        "y_pred_rf = rf_model.predict(X_test)\n",
        "print(\"Random Forest Accuracy:\", accuracy_score(y_test, y_pred_rf))\n",
        "\n",
        "# 7. K-Nearest Neighbors (KNN)\n",
        "knn_model = KNeighborsClassifier(n_neighbors=5)\n",
        "knn_model.fit(X_train, y_train)\n",
        "y_pred_knn = knn_model.predict(X_test)\n",
        "print(\"KNN Accuracy:\", accuracy_score(y_test, y_pred_knn))\n",
        "\n",
        "# 8. K-Means Clustering\n",
        "kmeans = KMeans(n_clusters=3, random_state=42, n_init=10)\n",
        "kmeans.fit(X_scaled)\n",
        "print(\"K-Means Cluster Centers:\\n\", kmeans.cluster_centers_)\n"
      ]
    }
  ]
}